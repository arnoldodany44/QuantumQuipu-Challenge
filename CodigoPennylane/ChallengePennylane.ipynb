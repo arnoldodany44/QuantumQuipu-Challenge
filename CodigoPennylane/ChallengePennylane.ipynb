{
 "cells": [
  {
   "cell_type": "code",
   "execution_count": 2,
   "metadata": {},
   "outputs": [],
   "source": [
    "import pandas as pd\n",
    "import pennylane as qml\n",
    "from pennylane import numpy as np\n",
    "from pennylane.templates import StronglyEntanglingLayers\n",
    "import torch\n",
    "from torch.autograd import Variable\n",
    "\n",
    "# Cargar datos\n",
    "data_train = pd.read_csv('challenge_train.csv')\n",
    "data_test = pd.read_csv('challenge_test.csv')\n",
    "\n",
    "# Preparar características y etiquetas\n",
    "features_train = data_train[['F1', 'F2', 'F3', 'F4']].values\n",
    "targets_train = data_train['Target'].values\n",
    "features_test = data_test[['F1', 'F2', 'F3', 'F4']].values\n",
    "targets_test = data_test['Target'].values\n",
    "\n",
    "# Normalizar características\n",
    "min_values = np.min(features_train, axis=0)\n",
    "max_values = np.max(features_train, axis=0)\n",
    "features_train_normalized = (features_train - min_values) / (max_values - min_values)\n",
    "features_test_normalized = (features_test - min_values) / (max_values - min_values)\n",
    "\n",
    "# Convertir los datos normalizados a tensores de PyTorch\n",
    "features_train_torch = torch.tensor(features_train_normalized).float()\n",
    "targets_train_torch = torch.tensor(targets_train).float()\n",
    "features_test_torch = torch.tensor(features_test_normalized).float()\n",
    "targets_test_torch = torch.tensor(targets_test).float()\n",
    "\n",
    "# Configuración del dispositivo cuántico\n",
    "num_qubits = 4\n",
    "dev = qml.device('default.qubit', wires=num_qubits)"
   ]
  },
  {
   "cell_type": "code",
   "execution_count": 6,
   "metadata": {},
   "outputs": [
    {
     "name": "stdout",
     "output_type": "stream",
     "text": [
      "Step 0 - Loss: 25.146556043933625\n",
      "Step 10 - Loss: 4.099189718582357\n",
      "Step 20 - Loss: 0.904635497839444\n",
      "Step 30 - Loss: 1.0067087213294585\n",
      "Step 40 - Loss: 0.6319579198779275\n",
      "Step 50 - Loss: 0.5128586602563928\n",
      "Step 60 - Loss: 0.49227426292604765\n",
      "Step 70 - Loss: 0.4767682224796805\n",
      "Step 80 - Loss: 0.4726910943149468\n",
      "Step 90 - Loss: 0.4710385361375907\n",
      "Accuracy: 69.9999988079071%\n"
     ]
    }
   ],
   "source": [
    "@qml.qnode(dev, interface='torch')\n",
    "def quantum_circuit(features, weights):\n",
    "    qml.templates.AmplitudeEmbedding(features, wires=range(num_qubits), pad_with=0., normalize=True)\n",
    "    qml.templates.StronglyEntanglingLayers(weights, wires=range(num_qubits))\n",
    "    return qml.expval(qml.PauliZ(0))\n",
    "\n",
    "# Ajuste de la inicialización de los pesos\n",
    "num_layers = 2  # Ajustado de 4 a 6 capas\n",
    "init_weights = np.random.uniform(low=-1, high=1, size=(num_layers, num_qubits, 3))  # Ajuste en la distribución\n",
    "weights = Variable(torch.tensor(init_weights), requires_grad=True)\n",
    "\n",
    "# Función de coste ajustada\n",
    "def cost(weights):\n",
    "    loss = 0\n",
    "    reg_lambda = 2.5  # Ajustado a un valor más bajo\n",
    "    for i in range(len(features_train_torch)):\n",
    "        f = features_train_torch[i]\n",
    "        label = targets_train_torch[i]\n",
    "        prediction = quantum_circuit(f, weights)\n",
    "        loss += (prediction - label) ** 2\n",
    "    l2_reg = reg_lambda * torch.sum(weights ** 2)  # Uso de sum para calcular L2\n",
    "    return (loss / len(features_train_torch)) + l2_reg\n",
    "\n",
    "# Optimizador ajustado\n",
    "optimizer = torch.optim.Adam([weights], lr=0.05)  # Ajuste del learning rate\n",
    "\n",
    "# Bucle de entrenamiento ajustado\n",
    "steps = 100  # Aumento del número de pasos\n",
    "for step in range(steps):\n",
    "    optimizer.zero_grad()\n",
    "    loss = cost(weights)\n",
    "    loss.backward()\n",
    "    optimizer.step()\n",
    "    if step % 10 == 0:\n",
    "        print(f\"Step {step} - Loss: {loss.item()}\")\n",
    "\n",
    "# Función de predicción ajustada\n",
    "def predict(features, weights):\n",
    "    predictions = [quantum_circuit(f, weights).item() for f in features]\n",
    "    predicted_labels = torch.tensor(predictions).float()\n",
    "    # Ajuste del umbral de clasificación\n",
    "    predicted_labels = torch.where(predicted_labels > 0.0, 1, 0).int()\n",
    "    return predicted_labels\n",
    "\n",
    "# Evaluar el accuracy\n",
    "predicted_labels = predict(features_test_torch, weights)\n",
    "accuracy = torch.mean((predicted_labels == targets_test_torch).float())\n",
    "print(f'Accuracy: {accuracy.item()*100}%')"
   ]
  }
 ],
 "metadata": {
  "kernelspec": {
   "display_name": "Python 3",
   "language": "python",
   "name": "python3"
  },
  "language_info": {
   "codemirror_mode": {
    "name": "ipython",
    "version": 3
   },
   "file_extension": ".py",
   "mimetype": "text/x-python",
   "name": "python",
   "nbconvert_exporter": "python",
   "pygments_lexer": "ipython3",
   "version": "3.11.2"
  }
 },
 "nbformat": 4,
 "nbformat_minor": 2
}
